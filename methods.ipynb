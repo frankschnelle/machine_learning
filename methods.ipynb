{
 "cells": [
  {
   "cell_type": "code",
   "execution_count": 1,
   "id": "7fb20aff-1104-45c1-86d7-9f714cb1162e",
   "metadata": {},
   "outputs": [],
   "source": [
    "import pandas as pd\n",
    "from sklearn.preprocessing import OrdinalEncoder"
   ]
  },
  {
   "cell_type": "code",
   "execution_count": 2,
   "id": "f3fce4e1-077b-4b46-8d0f-03dd9ed115b7",
   "metadata": {},
   "outputs": [
    {
     "name": "stdout",
     "output_type": "stream",
     "text": [
      "   Aufwand  Aufwand_kodiert\n",
      "0   mittel                1\n",
      "1  niedrig                0\n",
      "2     hoch                2\n",
      "3   mittel                1\n"
     ]
    }
   ],
   "source": [
    "df = pd.DataFrame(['mittel', 'niedrig', 'hoch', 'mittel'], columns=['Aufwand'])\n",
    "oe = OrdinalEncoder(categories=[['niedrig', 'mittel', 'hoch']], dtype='int')\n",
    "oe.set_output(transform='pandas')\n",
    "df['Aufwand_kodiert'] = oe.fit_transform(df)\n",
    "print(df)"
   ]
  },
  {
   "cell_type": "code",
   "execution_count": null,
   "id": "7df78b78-cd15-4b99-b65b-02d848b92335",
   "metadata": {},
   "outputs": [],
   "source": []
  }
 ],
 "metadata": {
  "kernelspec": {
   "display_name": "venv-AI",
   "language": "python",
   "name": "venv-ai"
  },
  "language_info": {
   "codemirror_mode": {
    "name": "ipython",
    "version": 3
   },
   "file_extension": ".py",
   "mimetype": "text/x-python",
   "name": "python",
   "nbconvert_exporter": "python",
   "pygments_lexer": "ipython3",
   "version": "3.11.6"
  }
 },
 "nbformat": 4,
 "nbformat_minor": 5
}
